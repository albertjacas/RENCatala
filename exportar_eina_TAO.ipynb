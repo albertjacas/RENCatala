{
 "cells": [
  {
   "cell_type": "code",
   "execution_count": 1,
   "metadata": {},
   "outputs": [],
   "source": [
    "import csv, pickle\n",
    "\n",
    "from utils import EntitatNomenada"
   ]
  },
  {
   "cell_type": "code",
   "execution_count": 2,
   "metadata": {},
   "outputs": [],
   "source": [
    "# Llegim les variables resultants d'executar les regex.\n",
    "with open('entitats_nomenades.corpus_raw.pickle', 'rb') as file:\n",
    "    entitats_nomenades_res = pickle.load(file)"
   ]
  },
  {
   "cell_type": "code",
   "execution_count": 3,
   "metadata": {},
   "outputs": [],
   "source": [
    "# Ordenem les llistes pel seu index de token.\n",
    "entitats_nomenades_res.sort(key=lambda x: x.inici)"
   ]
  },
  {
   "cell_type": "code",
   "execution_count": 4,
   "metadata": {},
   "outputs": [],
   "source": [
    "# Exportem els resultats a un arxiu CSV.\n",
    "with open('entitats_nomenades_TAO.csv', 'w', newline='') as csvfile:\n",
    "\n",
    "    writer = csv.writer(csvfile, quoting=csv.QUOTE_MINIMAL)\n",
    "\n",
    "    for en in entitats_nomenades_res:\n",
    "\n",
    "        writer.writerow([\" \".join(en.tokens), en.etiqueta])    "
   ]
  }
 ],
 "metadata": {
  "kernelspec": {
   "display_name": "Python 3",
   "language": "python",
   "name": "python3"
  },
  "language_info": {
   "codemirror_mode": {
    "name": "ipython",
    "version": 3
   },
   "file_extension": ".py",
   "mimetype": "text/x-python",
   "name": "python",
   "nbconvert_exporter": "python",
   "pygments_lexer": "ipython3",
   "version": "3.12.3"
  }
 },
 "nbformat": 4,
 "nbformat_minor": 2
}
